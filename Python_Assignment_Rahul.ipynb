{
  "nbformat": 4,
  "nbformat_minor": 0,
  "metadata": {
    "colab": {
      "name": "Python Assignment Rahul.ipynb",
      "provenance": [],
      "collapsed_sections": [],
      "authorship_tag": "ABX9TyMiY2m7H8XxpKSNnKYTAE1p",
      "include_colab_link": true
    },
    "kernelspec": {
      "name": "python3",
      "display_name": "Python 3"
    }
  },
  "cells": [
    {
      "cell_type": "markdown",
      "metadata": {
        "id": "view-in-github",
        "colab_type": "text"
      },
      "source": [
        "<a href=\"https://colab.research.google.com/github/poojabhateley/KNN-Algorithm/blob/master/Python_Assignment_Rahul.ipynb\" target=\"_parent\"><img src=\"https://colab.research.google.com/assets/colab-badge.svg\" alt=\"Open In Colab\"/></a>"
      ]
    },
    {
      "cell_type": "code",
      "metadata": {
        "id": "4mlOTnqi2Ji0",
        "colab_type": "code",
        "colab": {
          "base_uri": "https://localhost:8080/",
          "height": 34
        },
        "outputId": "c5839617-310c-4326-ba9a-39d2d92041c6"
      },
      "source": [
        "#Question 1 count number of strings with length>=2, and first and last character are same\n",
        "\n",
        "l1=[\"apple\",\"maam\",\"orange\",\"a\"]\n",
        "\n",
        "count=0\n",
        "for i in l1:\n",
        "  if len(i)>=2 and i[0]==i[-1]:\n",
        "    count=count+1\n",
        "print(f\"Number of strings with length greater than or equal to 2 and same first and last character are {count}\")"
      ],
      "execution_count": 2,
      "outputs": [
        {
          "output_type": "stream",
          "text": [
            "Number of strings with length greater than or equal to 2 and same first and last character are 1\n"
          ],
          "name": "stdout"
        }
      ]
    },
    {
      "cell_type": "code",
      "metadata": {
        "id": "yLycXPUb3RTf",
        "colab_type": "code",
        "colab": {
          "base_uri": "https://localhost:8080/",
          "height": 34
        },
        "outputId": "9e71d8a9-671a-468a-a268-9835c6d63c57"
      },
      "source": [
        "# Question 2 sum of two lists\n",
        "\n",
        "l1=[1,2,3,4,5]\n",
        "l2=[2,3,4,5,6]\n",
        "\n",
        "add1=list(map(lambda x,y:x+y,l1,l2))\n",
        "print(add1)"
      ],
      "execution_count": 6,
      "outputs": [
        {
          "output_type": "stream",
          "text": [
            "[3, 5, 7, 9, 11]\n"
          ],
          "name": "stdout"
        }
      ]
    },
    {
      "cell_type": "code",
      "metadata": {
        "id": "i-Fb_EMN3j5s",
        "colab_type": "code",
        "colab": {
          "base_uri": "https://localhost:8080/",
          "height": 34
        },
        "outputId": "0341900e-0fc8-4a5a-9739-f3ab2446859d"
      },
      "source": [
        "#Question 3 print a dictionary with keys 1 to 15 and values are square of keys\n",
        "\n",
        "dict1={}\n",
        "\n",
        "for i in range(1,16):\n",
        "  dict1[i]=i**2\n",
        "\n",
        "print(dict1)"
      ],
      "execution_count": 10,
      "outputs": [
        {
          "output_type": "stream",
          "text": [
            "{1: 1, 2: 4, 3: 9, 4: 16, 5: 25, 6: 36, 7: 49, 8: 64, 9: 81, 10: 100, 11: 121, 12: 144, 13: 169, 14: 196, 15: 225}\n"
          ],
          "name": "stdout"
        }
      ]
    },
    {
      "cell_type": "code",
      "metadata": {
        "id": "aLyaJ5g-4MBs",
        "colab_type": "code",
        "colab": {
          "base_uri": "https://localhost:8080/",
          "height": 34
        },
        "outputId": "bdac0202-790a-4d17-b19f-c5b68e05d95d"
      },
      "source": [
        "#Question 4 print all unique values in a dictionary\n",
        "\n",
        "d1={'a':1,'b':2,'c':5,'d':2,'e':4,'f':3,'g':5}\n",
        "s1=set()\n",
        "for key,val in d1.items():\n",
        "  s1.add(val)\n",
        "print(s1)"
      ],
      "execution_count": 11,
      "outputs": [
        {
          "output_type": "stream",
          "text": [
            "{1, 2, 3, 4, 5}\n"
          ],
          "name": "stdout"
        }
      ]
    },
    {
      "cell_type": "code",
      "metadata": {
        "id": "r6JknsTd4-LP",
        "colab_type": "code",
        "colab": {
          "base_uri": "https://localhost:8080/",
          "height": 68
        },
        "outputId": "b50303fb-7db7-4bba-e69d-151b3d68cf67"
      },
      "source": [
        "#Question 5 get top 3 elements in a shop\n",
        "\n",
        "item={'item1':100,'item2':200,'item3':300,'item4':500,'item5':800,'item6':50,'item7':900,'item8':1000,'item9':250,'item10':150}\n",
        "result={}\n",
        "l=sorted(item,reverse=True)\n",
        "for i in range(0,3):\n",
        "   print(l[i])\n",
        "\n",
        "  "
      ],
      "execution_count": 43,
      "outputs": [
        {
          "output_type": "stream",
          "text": [
            "item9\n",
            "item8\n",
            "item7\n"
          ],
          "name": "stdout"
        }
      ]
    },
    {
      "cell_type": "code",
      "metadata": {
        "id": "XzX7Jgey5vl1",
        "colab_type": "code",
        "colab": {
          "base_uri": "https://localhost:8080/",
          "height": 34
        },
        "outputId": "012233a1-c5a3-48be-ae9d-6523490b8c94"
      },
      "source": [
        "#Question 6 count number of items in a dictionary value that is a list\n",
        "\n",
        "d1={'a':[1,2,3,4,5],'b':[2,3],'c':[1,2,3,4,5,6]}\n",
        "\n",
        "count=list(map(len,d1.values()))\n",
        "print(count)"
      ],
      "execution_count": 19,
      "outputs": [
        {
          "output_type": "stream",
          "text": [
            "[5, 2, 6]\n"
          ],
          "name": "stdout"
        }
      ]
    },
    {
      "cell_type": "code",
      "metadata": {
        "id": "ntIZKYzE7dyq",
        "colab_type": "code",
        "colab": {
          "base_uri": "https://localhost:8080/",
          "height": 34
        },
        "outputId": "f5054107-c9b7-435c-9780-795f51aed639"
      },
      "source": [
        "#Question 7 replace dictionary values with average\n",
        "\n",
        "d1={'a':10,'b':15,'c':30,'d':20}\n",
        "\n",
        "avg=sum(d1.values())/len(d1)\n",
        "\n",
        "for key,val in d1.items():\n",
        "  d1[key]=avg\n",
        "print(d1)"
      ],
      "execution_count": 23,
      "outputs": [
        {
          "output_type": "stream",
          "text": [
            "{'a': 18.75, 'b': 18.75, 'c': 18.75, 'd': 18.75}\n"
          ],
          "name": "stdout"
        }
      ]
    },
    {
      "cell_type": "code",
      "metadata": {
        "id": "Wo-iJjvu8Pxk",
        "colab_type": "code",
        "colab": {
          "base_uri": "https://localhost:8080/",
          "height": 34
        },
        "outputId": "61ab9227-079f-47ed-e0a5-ad3f377f1572"
      },
      "source": [
        "#Question8 remove item from tuple\n",
        "\n",
        "tup1=(10,30,20,100,50)\n",
        "tup2=tup1[:2]+tup1[3:]\n",
        "print(tup2)"
      ],
      "execution_count": 25,
      "outputs": [
        {
          "output_type": "stream",
          "text": [
            "(10, 30, 100, 50)\n"
          ],
          "name": "stdout"
        }
      ]
    },
    {
      "cell_type": "code",
      "metadata": {
        "id": "j3q_8Pcr85kC",
        "colab_type": "code",
        "colab": {
          "base_uri": "https://localhost:8080/",
          "height": 34
        },
        "outputId": "1f1c6905-162a-4971-f52e-da3e0b6ae91a"
      },
      "source": [
        "#Question 9 find palindromes in a list of strings\n",
        "\n",
        "l1=['maam','apple','orange','mom','madam']\n",
        "result=[]\n",
        "for i in l1:\n",
        "  if i==i[::-1]:\n",
        "    result.append(i)\n",
        "print(result)"
      ],
      "execution_count": 26,
      "outputs": [
        {
          "output_type": "stream",
          "text": [
            "['maam', 'mom', 'madam']\n"
          ],
          "name": "stdout"
        }
      ]
    },
    {
      "cell_type": "code",
      "metadata": {
        "id": "SM-mekta9XVZ",
        "colab_type": "code",
        "colab": {
          "base_uri": "https://localhost:8080/",
          "height": 34
        },
        "outputId": "4d93bb2e-67c8-428a-c865-956247f19201"
      },
      "source": [
        "#Question 10 filter the negative values from a dictionary\n",
        "\n",
        "d1={'a':10,'b':-3,'c':15,'d':-10,'e':-15}\n",
        "\n",
        "d2=dict( (key,val) for key,val in d1.items() if val>0)\n",
        "print(d2)"
      ],
      "execution_count": 30,
      "outputs": [
        {
          "output_type": "stream",
          "text": [
            "{'a': 10, 'c': 15}\n"
          ],
          "name": "stdout"
        }
      ]
    },
    {
      "cell_type": "code",
      "metadata": {
        "id": "620lYiQO97ka",
        "colab_type": "code",
        "colab": {
          "base_uri": "https://localhost:8080/",
          "height": 34
        },
        "outputId": "2f36c267-badc-48ff-f10f-2323cdd8ce76"
      },
      "source": [
        "#question 11 filter list of strings based on substring list\n",
        "\n",
        "import re\n",
        "string=[\"apple\",\"apple123\",\"orange\",\"mango\"]\n",
        "sub=[\"app\",\"ora\"]\n",
        "\n",
        "result=[i for i in string if any(j in i for j in sub)]\n",
        "print(result)\n",
        "\n"
      ],
      "execution_count": 33,
      "outputs": [
        {
          "output_type": "stream",
          "text": [
            "['apple', 'apple123', 'orange']\n"
          ],
          "name": "stdout"
        }
      ]
    },
    {
      "cell_type": "code",
      "metadata": {
        "id": "atqGTa6yDECy",
        "colab_type": "code",
        "colab": {}
      },
      "source": [
        ""
      ],
      "execution_count": 0,
      "outputs": []
    }
  ]
}