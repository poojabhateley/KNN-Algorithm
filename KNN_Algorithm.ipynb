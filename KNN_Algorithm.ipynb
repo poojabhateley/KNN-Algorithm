{
  "nbformat": 4,
  "nbformat_minor": 0,
  "metadata": {
    "colab": {
      "name": "KNN Algorithm.ipynb",
      "provenance": [],
      "collapsed_sections": [],
      "authorship_tag": "ABX9TyN1/CdqTZZOhyCXHoonBmMU",
      "include_colab_link": true
    },
    "kernelspec": {
      "name": "python3",
      "display_name": "Python 3"
    }
  },
  "cells": [
    {
      "cell_type": "markdown",
      "metadata": {
        "id": "view-in-github",
        "colab_type": "text"
      },
      "source": [
        "<a href=\"https://colab.research.google.com/github/poojabhateley/KNN-Algorithm/blob/master/KNN_Algorithm.ipynb\" target=\"_parent\"><img src=\"https://colab.research.google.com/assets/colab-badge.svg\" alt=\"Open In Colab\"/></a>"
      ]
    },
    {
      "cell_type": "code",
      "metadata": {
        "id": "tMUQfLqzSI5U",
        "colab_type": "code",
        "colab": {}
      },
      "source": [
        "#KNN Algorithm Steps-\n",
        "#Assume k=3 hyperparameter\n",
        "# Find Euclidean Distance for a test point from all other points\n",
        "#Sort in Ascending Order\n",
        "#return a list of k nearest neighbours\n",
        "#Find the first 3 points from the list and their classification"
      ],
      "execution_count": 0,
      "outputs": []
    },
    {
      "cell_type": "code",
      "metadata": {
        "id": "5uV5g2FdTTIS",
        "colab_type": "code",
        "colab": {}
      },
      "source": [
        "import math\n",
        "def Euclidean_dist(col,xq,k):\n",
        "  dict1={}\n",
        "  for i in col:\n",
        "     dict1[i]=math.sqrt((i-xq)**2)\n",
        "  sort_dict=sorted(dict1.items(),key=lambda x:x[1])\n",
        "  return list(dict(sort_dict[0:3]).keys())\n",
        "  \n",
        "  \n"
      ],
      "execution_count": 0,
      "outputs": []
    },
    {
      "cell_type": "code",
      "metadata": {
        "id": "06sp6OHhUq92",
        "colab_type": "code",
        "colab": {}
      },
      "source": [
        "import pandas as pd\n",
        "\n",
        "data=pd.read_csv('/content/Iris.csv')\n"
      ],
      "execution_count": 0,
      "outputs": []
    },
    {
      "cell_type": "code",
      "metadata": {
        "id": "sn3GF1hRUQ1W",
        "colab_type": "code",
        "colab": {
          "base_uri": "https://localhost:8080/",
          "height": 34
        },
        "outputId": "cef1ebc8-7f83-47f4-c199-f6d05301afb6"
      },
      "source": [
        "#testing Euclidean Function\n",
        "list1=[1,2,10,4,9,15,7,8,9,11]\n",
        "xq=6\n",
        "k=3\n",
        "Euclidean_dist(list1,xq,k)"
      ],
      "execution_count": 65,
      "outputs": [
        {
          "output_type": "execute_result",
          "data": {
            "text/plain": [
              "[7, 4, 8]"
            ]
          },
          "metadata": {
            "tags": []
          },
          "execution_count": 65
        }
      ]
    },
    {
      "cell_type": "code",
      "metadata": {
        "id": "ht-kZy81p4_w",
        "colab_type": "code",
        "colab": {
          "base_uri": "https://localhost:8080/",
          "height": 301
        },
        "outputId": "17bf7ddc-bc71-4c9f-833c-1ff87227616e"
      },
      "source": [
        "sepal=data['SepalLengthCm']\n",
        "nearest_sepal=Euclidean_dist(sepal,6,3)\n",
        "result=[]\n",
        "for i in nearest_sepal:\n",
        "  result.append(data[data['SepalLengthCm']==i]['Species'])\n",
        "print(result)\n",
        "  \n"
      ],
      "execution_count": 80,
      "outputs": [
        {
          "output_type": "stream",
          "text": [
            "[62     Iris-versicolor\n",
            "78     Iris-versicolor\n",
            "83     Iris-versicolor\n",
            "85     Iris-versicolor\n",
            "119     Iris-virginica\n",
            "138     Iris-virginica\n",
            "Name: Species, dtype: object, 61     Iris-versicolor\n",
            "70     Iris-versicolor\n",
            "149     Iris-virginica\n",
            "Name: Species, dtype: object, 63     Iris-versicolor\n",
            "71     Iris-versicolor\n",
            "73     Iris-versicolor\n",
            "91     Iris-versicolor\n",
            "127     Iris-virginica\n",
            "134     Iris-virginica\n",
            "Name: Species, dtype: object]\n"
          ],
          "name": "stdout"
        }
      ]
    },
    {
      "cell_type": "code",
      "metadata": {
        "id": "zZEF5ACEp-oZ",
        "colab_type": "code",
        "colab": {}
      },
      "source": [
        ""
      ],
      "execution_count": 0,
      "outputs": []
    }
  ]
}