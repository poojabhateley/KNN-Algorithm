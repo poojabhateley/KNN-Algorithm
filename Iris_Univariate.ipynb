{
  "nbformat": 4,
  "nbformat_minor": 0,
  "metadata": {
    "colab": {
      "name": "Iris Univariate.ipynb",
      "provenance": [],
      "collapsed_sections": [],
      "authorship_tag": "ABX9TyN+PN03PJy0WSw8j2QzZeAV",
      "include_colab_link": true
    },
    "kernelspec": {
      "name": "python3",
      "display_name": "Python 3"
    }
  },
  "cells": [
    {
      "cell_type": "markdown",
      "metadata": {
        "id": "view-in-github",
        "colab_type": "text"
      },
      "source": [
        "<a href=\"https://colab.research.google.com/github/poojabhateley/KNN-Algorithm/blob/master/Iris_Univariate.ipynb\" target=\"_parent\"><img src=\"https://colab.research.google.com/assets/colab-badge.svg\" alt=\"Open In Colab\"/></a>"
      ]
    },
    {
      "cell_type": "code",
      "metadata": {
        "id": "cegcJqcJ-aBY",
        "colab_type": "code",
        "colab": {}
      },
      "source": [
        "import csv\n",
        "from collections import defaultdict\n",
        "\n",
        "iris = defaultdict(list) \n",
        "\n",
        "with open('/content/Iris.csv') as f:\n",
        "    reader = csv.DictReader(f) \n",
        "    for row in reader: \n",
        "        for (k,v) in row.items():  \n",
        "            iris[k].append((v))"
      ],
      "execution_count": 0,
      "outputs": []
    },
    {
      "cell_type": "code",
      "metadata": {
        "id": "v6SezwriDAz2",
        "colab_type": "code",
        "colab": {}
      },
      "source": [
        "\n",
        "sep = list() \n",
        "\n",
        "for i in iris['SepalLengthCm']:\n",
        "  sep.append(float(i))\n"
      ],
      "execution_count": 0,
      "outputs": []
    },
    {
      "cell_type": "markdown",
      "metadata": {
        "id": "p-inp-rz_D7z",
        "colab_type": "text"
      },
      "source": [
        "# New Section"
      ]
    },
    {
      "cell_type": "code",
      "metadata": {
        "id": "-xW_FAes-rD1",
        "colab_type": "code",
        "outputId": "3e637a35-e7f8-40da-976e-f27895697a72",
        "colab": {
          "base_uri": "https://localhost:8080/",
          "height": 204
        }
      },
      "source": [
        "#Using pandas to import the dataset\n",
        "\n",
        "import pandas as pd\n",
        "\n",
        "data=pd.read_csv(\"/content/Iris.csv\")\n",
        "data.head()"
      ],
      "execution_count": 36,
      "outputs": [
        {
          "output_type": "execute_result",
          "data": {
            "text/html": [
              "<div>\n",
              "<style scoped>\n",
              "    .dataframe tbody tr th:only-of-type {\n",
              "        vertical-align: middle;\n",
              "    }\n",
              "\n",
              "    .dataframe tbody tr th {\n",
              "        vertical-align: top;\n",
              "    }\n",
              "\n",
              "    .dataframe thead th {\n",
              "        text-align: right;\n",
              "    }\n",
              "</style>\n",
              "<table border=\"1\" class=\"dataframe\">\n",
              "  <thead>\n",
              "    <tr style=\"text-align: right;\">\n",
              "      <th></th>\n",
              "      <th>Id</th>\n",
              "      <th>SepalLengthCm</th>\n",
              "      <th>SepalWidthCm</th>\n",
              "      <th>PetalLengthCm</th>\n",
              "      <th>PetalWidthCm</th>\n",
              "      <th>Species</th>\n",
              "    </tr>\n",
              "  </thead>\n",
              "  <tbody>\n",
              "    <tr>\n",
              "      <th>0</th>\n",
              "      <td>1</td>\n",
              "      <td>5.1</td>\n",
              "      <td>3.5</td>\n",
              "      <td>1.4</td>\n",
              "      <td>0.2</td>\n",
              "      <td>Iris-setosa</td>\n",
              "    </tr>\n",
              "    <tr>\n",
              "      <th>1</th>\n",
              "      <td>2</td>\n",
              "      <td>4.9</td>\n",
              "      <td>3.0</td>\n",
              "      <td>1.4</td>\n",
              "      <td>0.2</td>\n",
              "      <td>Iris-setosa</td>\n",
              "    </tr>\n",
              "    <tr>\n",
              "      <th>2</th>\n",
              "      <td>3</td>\n",
              "      <td>4.7</td>\n",
              "      <td>3.2</td>\n",
              "      <td>1.3</td>\n",
              "      <td>0.2</td>\n",
              "      <td>Iris-setosa</td>\n",
              "    </tr>\n",
              "    <tr>\n",
              "      <th>3</th>\n",
              "      <td>4</td>\n",
              "      <td>4.6</td>\n",
              "      <td>3.1</td>\n",
              "      <td>1.5</td>\n",
              "      <td>0.2</td>\n",
              "      <td>Iris-setosa</td>\n",
              "    </tr>\n",
              "    <tr>\n",
              "      <th>4</th>\n",
              "      <td>5</td>\n",
              "      <td>5.0</td>\n",
              "      <td>3.6</td>\n",
              "      <td>1.4</td>\n",
              "      <td>0.2</td>\n",
              "      <td>Iris-setosa</td>\n",
              "    </tr>\n",
              "  </tbody>\n",
              "</table>\n",
              "</div>"
            ],
            "text/plain": [
              "   Id  SepalLengthCm  SepalWidthCm  PetalLengthCm  PetalWidthCm      Species\n",
              "0   1            5.1           3.5            1.4           0.2  Iris-setosa\n",
              "1   2            4.9           3.0            1.4           0.2  Iris-setosa\n",
              "2   3            4.7           3.2            1.3           0.2  Iris-setosa\n",
              "3   4            4.6           3.1            1.5           0.2  Iris-setosa\n",
              "4   5            5.0           3.6            1.4           0.2  Iris-setosa"
            ]
          },
          "metadata": {
            "tags": []
          },
          "execution_count": 36
        }
      ]
    },
    {
      "cell_type": "code",
      "metadata": {
        "id": "qDmtZX0HFZaK",
        "colab_type": "code",
        "outputId": "fe00112b-8c4f-4380-ec89-44073e63c142",
        "colab": {
          "base_uri": "https://localhost:8080/",
          "height": 34
        }
      },
      "source": [
        "sepal=list(data['SepalLengthCm'])\n",
        "petal=list(data['PetalLengthCm'])\n",
        "sepal[0:5]"
      ],
      "execution_count": 26,
      "outputs": [
        {
          "output_type": "execute_result",
          "data": {
            "text/plain": [
              "[5.1, 4.9, 4.7, 4.6, 5.0]"
            ]
          },
          "metadata": {
            "tags": []
          },
          "execution_count": 26
        }
      ]
    },
    {
      "cell_type": "code",
      "metadata": {
        "id": "a4TMV-UjFZdP",
        "colab_type": "code",
        "colab": {
          "base_uri": "https://localhost:8080/",
          "height": 34
        },
        "outputId": "27932cf3-d749-4712-f34d-9caacd942a8b"
      },
      "source": [
        "#Mean \n",
        "\n",
        "from functools import reduce\n",
        "\n",
        "mean1= round(reduce(lambda x,y:x+y,sepal)/len(sepal),4)\n",
        "print(f\"Mean is {mean1}\")\n",
        "\n"
      ],
      "execution_count": 21,
      "outputs": [
        {
          "output_type": "stream",
          "text": [
            "Mean is 5.8433\n"
          ],
          "name": "stdout"
        }
      ]
    },
    {
      "cell_type": "code",
      "metadata": {
        "id": "LR4c01tMFZi0",
        "colab_type": "code",
        "colab": {
          "base_uri": "https://localhost:8080/",
          "height": 34
        },
        "outputId": "9ef47cad-ea7d-446d-9573-b5bb58522be5"
      },
      "source": [
        "#variance and Standard Deviation\n",
        "import math\n",
        "\n",
        "std_dev= round(math.sqrt(sum(map(lambda x:(x-mean1)**2,sepal))/len(sepal)),4)\n",
        "\n",
        "var=round(std_dev**2,4)\n",
        "\n",
        "print(f\"Standard deviation is {std_dev} and variance is {var}\")"
      ],
      "execution_count": 23,
      "outputs": [
        {
          "output_type": "stream",
          "text": [
            "Standard deviation is 0.8253 and variance is 0.6811\n"
          ],
          "name": "stdout"
        }
      ]
    },
    {
      "cell_type": "code",
      "metadata": {
        "id": "-DvREnOoFZlb",
        "colab_type": "code",
        "colab": {
          "base_uri": "https://localhost:8080/",
          "height": 34
        },
        "outputId": "3a589adc-f773-483a-e2d5-366655af4fad"
      },
      "source": [
        "#Skewness and Kurtosis\n",
        "\n",
        "skew=round(sum(map(lambda x:(x-mean1)**3,sepal))/(len(sepal)*(std_dev**3)),4)\n",
        "\n",
        "kurt=round(sum(map(lambda x:(x-mean1)**4,sepal))/(len(sepal)*(std_dev**4)),4)\n",
        "\n",
        "print(f\"Skewness is {skew} and Kurtosis is {kurt}\")"
      ],
      "execution_count": 30,
      "outputs": [
        {
          "output_type": "stream",
          "text": [
            "Skewness is 0.3119 and Kurtosis is 2.4265\n"
          ],
          "name": "stdout"
        }
      ]
    },
    {
      "cell_type": "markdown",
      "metadata": {
        "id": "tgUesGtv-4b6",
        "colab_type": "text"
      },
      "source": [
        "# New Section"
      ]
    },
    {
      "cell_type": "markdown",
      "metadata": {
        "id": "NWcbE42v-73d",
        "colab_type": "text"
      },
      "source": [
        "# New Section"
      ]
    }
  ]
}